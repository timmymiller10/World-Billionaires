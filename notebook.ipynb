{
 "cells": [
  {
   "cell_type": "code",
   "execution_count": 1,
   "metadata": {},
   "outputs": [],
   "source": [
    "import os\n",
    "import numpy as np\n",
    "import pandas as pd\n",
    "import matplotlib.pyplot as plt"
   ]
  },
  {
   "cell_type": "code",
   "execution_count": 2,
   "metadata": {},
   "outputs": [],
   "source": [
    "# set working directory\n",
    "\n",
    "os.chdir('/Users/timothymiller/Documents/GitHub/World-Billionaires')"
   ]
  },
  {
   "cell_type": "code",
   "execution_count": 7,
   "metadata": {},
   "outputs": [],
   "source": [
    "df = pd.read_csv('Data/The Worlds Billionaires Dataset 1987-2022.csv', encoding='iso-8859-1')"
   ]
  },
  {
   "cell_type": "code",
   "execution_count": 8,
   "metadata": {},
   "outputs": [
    {
     "data": {
      "text/html": [
       "<div>\n",
       "<style scoped>\n",
       "    .dataframe tbody tr th:only-of-type {\n",
       "        vertical-align: middle;\n",
       "    }\n",
       "\n",
       "    .dataframe tbody tr th {\n",
       "        vertical-align: top;\n",
       "    }\n",
       "\n",
       "    .dataframe thead th {\n",
       "        text-align: right;\n",
       "    }\n",
       "</style>\n",
       "<table border=\"1\" class=\"dataframe\">\n",
       "  <thead>\n",
       "    <tr style=\"text-align: right;\">\n",
       "      <th></th>\n",
       "      <th>Year</th>\n",
       "      <th>Yearly ranking</th>\n",
       "      <th>Name</th>\n",
       "      <th>Net worth (USD)\\n(billion)</th>\n",
       "      <th>Age</th>\n",
       "      <th>Nationality</th>\n",
       "      <th>Source(s) of wealth</th>\n",
       "    </tr>\n",
       "  </thead>\n",
       "  <tbody>\n",
       "    <tr>\n",
       "      <th>0</th>\n",
       "      <td>2022</td>\n",
       "      <td>1</td>\n",
       "      <td>Elon Musk</td>\n",
       "      <td>$219 billion</td>\n",
       "      <td>50</td>\n",
       "      <td>United States</td>\n",
       "      <td>Tesla, SpaceX</td>\n",
       "    </tr>\n",
       "    <tr>\n",
       "      <th>1</th>\n",
       "      <td>2022</td>\n",
       "      <td>2</td>\n",
       "      <td>Jeff Bezos</td>\n",
       "      <td>$177 billion</td>\n",
       "      <td>58</td>\n",
       "      <td>United States</td>\n",
       "      <td>Amazon</td>\n",
       "    </tr>\n",
       "    <tr>\n",
       "      <th>2</th>\n",
       "      <td>2022</td>\n",
       "      <td>3</td>\n",
       "      <td>Bernard Arnault &amp; family</td>\n",
       "      <td>$158 billion</td>\n",
       "      <td>73</td>\n",
       "      <td>France</td>\n",
       "      <td>LVMH</td>\n",
       "    </tr>\n",
       "    <tr>\n",
       "      <th>3</th>\n",
       "      <td>2022</td>\n",
       "      <td>4</td>\n",
       "      <td>Bill Gates</td>\n",
       "      <td>$129 billion</td>\n",
       "      <td>66</td>\n",
       "      <td>United States</td>\n",
       "      <td>Microsoft</td>\n",
       "    </tr>\n",
       "    <tr>\n",
       "      <th>4</th>\n",
       "      <td>2022</td>\n",
       "      <td>5</td>\n",
       "      <td>Warren Buffett</td>\n",
       "      <td>$118 billion</td>\n",
       "      <td>91</td>\n",
       "      <td>United States</td>\n",
       "      <td>Berkshire Hathaway</td>\n",
       "    </tr>\n",
       "    <tr>\n",
       "      <th>...</th>\n",
       "      <td>...</td>\n",
       "      <td>...</td>\n",
       "      <td>...</td>\n",
       "      <td>...</td>\n",
       "      <td>...</td>\n",
       "      <td>...</td>\n",
       "      <td>...</td>\n",
       "    </tr>\n",
       "    <tr>\n",
       "      <th>357</th>\n",
       "      <td>1987</td>\n",
       "      <td>6</td>\n",
       "      <td>Hans and Gad Rausing</td>\n",
       "      <td>$6.0 billion</td>\n",
       "      <td>/</td>\n",
       "      <td>Sweden</td>\n",
       "      <td>/</td>\n",
       "    </tr>\n",
       "    <tr>\n",
       "      <th>358</th>\n",
       "      <td>1987</td>\n",
       "      <td>7</td>\n",
       "      <td>Paul Reichmann</td>\n",
       "      <td>$6.0 billion</td>\n",
       "      <td>/</td>\n",
       "      <td>Canada</td>\n",
       "      <td>/</td>\n",
       "    </tr>\n",
       "    <tr>\n",
       "      <th>359</th>\n",
       "      <td>1987</td>\n",
       "      <td>8</td>\n",
       "      <td>Yohachiro Iwasaki [ja]</td>\n",
       "      <td>$5.6 billion</td>\n",
       "      <td>/</td>\n",
       "      <td>Japan</td>\n",
       "      <td>/</td>\n",
       "    </tr>\n",
       "    <tr>\n",
       "      <th>360</th>\n",
       "      <td>1987</td>\n",
       "      <td>9</td>\n",
       "      <td>Kenneth Thomson</td>\n",
       "      <td>$5.4 billion</td>\n",
       "      <td>/</td>\n",
       "      <td>Canada</td>\n",
       "      <td>/</td>\n",
       "    </tr>\n",
       "    <tr>\n",
       "      <th>361</th>\n",
       "      <td>1987</td>\n",
       "      <td>10</td>\n",
       "      <td>Keizo Saji</td>\n",
       "      <td>$4.0 billion</td>\n",
       "      <td>/</td>\n",
       "      <td>Japan</td>\n",
       "      <td>/</td>\n",
       "    </tr>\n",
       "  </tbody>\n",
       "</table>\n",
       "<p>362 rows × 7 columns</p>\n",
       "</div>"
      ],
      "text/plain": [
       "     Year Yearly ranking                       Name  \\\n",
       "0    2022               1                 Elon Musk   \n",
       "1    2022               2                Jeff Bezos   \n",
       "2    2022               3  Bernard Arnault & family   \n",
       "3    2022               4                Bill Gates   \n",
       "4    2022               5            Warren Buffett   \n",
       "..    ...             ...                       ...   \n",
       "357  1987               6      Hans and Gad Rausing   \n",
       "358  1987               7            Paul Reichmann   \n",
       "359  1987               8    Yohachiro Iwasaki [ja]   \n",
       "360  1987               9           Kenneth Thomson   \n",
       "361  1987              10                Keizo Saji   \n",
       "\n",
       "    Net worth (USD)\\n(billion) Age     Nationality Source(s) of wealth  \n",
       "0                $219 billion   50   United States       Tesla, SpaceX  \n",
       "1                $177 billion   58   United States              Amazon  \n",
       "2                $158 billion   73          France                LVMH  \n",
       "3                $129 billion   66   United States           Microsoft  \n",
       "4                $118 billion   91   United States  Berkshire Hathaway  \n",
       "..                         ...  ..             ...                 ...  \n",
       "357               $6.0 billion   /          Sweden                   /  \n",
       "358               $6.0 billion   /          Canada                   /  \n",
       "359               $5.6 billion   /           Japan                   /  \n",
       "360              $5.4 billion    /          Canada                   /  \n",
       "361               $4.0 billion   /           Japan                   /  \n",
       "\n",
       "[362 rows x 7 columns]"
      ]
     },
     "execution_count": 8,
     "metadata": {},
     "output_type": "execute_result"
    }
   ],
   "source": [
    "df"
   ]
  },
  {
   "cell_type": "code",
   "execution_count": 9,
   "metadata": {},
   "outputs": [
    {
     "data": {
      "text/plain": [
       "array(['\\xa0United States', '\\xa0France', '\\xa0India', '\\xa0Spain',\n",
       "       '\\xa0Mexico', '\\xa0Hong Kong', '\\xa0Brazil', '\\xa0Sweden',\n",
       "       '\\xa0Germany', '\\xa0Russia', '\\xa0Canada', '\\xa0Saudi Arabia',\n",
       "       '\\xa0Japan', '\\xa0Taiwan', '\\xa0Switzerland', '\\xa0South Korea',\n",
       "       '\\xa0United Kingdom'], dtype=object)"
      ]
     },
     "execution_count": 9,
     "metadata": {},
     "output_type": "execute_result"
    }
   ],
   "source": [
    "df['Nationality'].unique()"
   ]
  }
 ],
 "metadata": {
  "kernelspec": {
   "display_name": "Python 3.9.13 ('base')",
   "language": "python",
   "name": "python3"
  },
  "language_info": {
   "codemirror_mode": {
    "name": "ipython",
    "version": 3
   },
   "file_extension": ".py",
   "mimetype": "text/x-python",
   "name": "python",
   "nbconvert_exporter": "python",
   "pygments_lexer": "ipython3",
   "version": "3.9.13"
  },
  "orig_nbformat": 4,
  "vscode": {
   "interpreter": {
    "hash": "cd78fef2128015050713e82ca51c6520b11aee7c9ee8df750520bbbc7384cbaa"
   }
  }
 },
 "nbformat": 4,
 "nbformat_minor": 2
}
